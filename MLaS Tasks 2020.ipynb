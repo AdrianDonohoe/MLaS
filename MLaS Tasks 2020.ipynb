{
 "cells": [
  {
   "cell_type": "markdown",
   "metadata": {},
   "source": [
    "# Tasks 2020\n",
    "***"
   ]
  },
  {
   "cell_type": "markdown",
   "metadata": {},
   "source": [
    "## Task 1 - Computing Square Root of 2 to 100 Decimal Places\n",
    "\n",
    "The task is to compute the square root of 2 to 100 decimal places, but without using external modules, just standard python. One of the difficulties is that standard python doesn't support floating points with the required precision. Most  web search results for extending the precision of floating points suggest to use the Decimal module. [[1]](#References)\n",
    "\n",
    "There are many methods for computing the square root of a number.[[2]](#References) [[3]](#References) Eventually I settled on an algorithm called, Square Roots by Subtraction. According to the paper, I found it in, it is an old Japanese method. [[4]](#References) \n",
    "\n",
    "### Square Roots by Subtraction algorithm\n",
    "\n",
    "I chose this method because I could (mostly ) understand how it works but most importantly it uses normal integers as opposed to floating points, thereby bypassing standard pythons inability to handle large floating point decimals.As a consequence it doesnt suffer from loss of precision due to rounding errors. This method does not converge as quickly as Newton's Method.[[4]](#References) \n",
    "\n",
    "#### Algorithm Steps\n",
    "\n",
    "The algorithm has an initial step, then either step R1 or R2 is taken depending on the values of $a$ and $b$.\n",
    "\n",
    "* Initial Step \n",
    "\n",
    "To find the square root of $n$\n",
    "Let $ a = 5n $ and $ b = 5 $\n",
    "\n",
    "* Repeated Steps\n",
    "\n",
    "(R1) If $ a ≥ b $, replace a with $ a − b $, and add $ 10 $ to $ b $.\n",
    "\n",
    "(R2) If $ a < b$, add two zeroes to the end of $a$, and add a zero to $b$ just before\n",
    "the final digit (which will always be ‘5’).\n",
    "\n",
    "* Conclusion\n",
    "\n",
    "Then the digits of $b$ approach more and more closely the digits of the square\n",
    "root of $n$.\n",
    "\n",
    "\n",
    "#### Example of the Algorithm using a perfect square\n",
    "\n",
    "In this example I will try to find the square root of 25. So $a = 5n = 125, b = 5$.\n",
    "\n",
    "\n",
    "$ (125,5)$  R1 $\\Rightarrow (120,15)$  R1 $\\Rightarrow (105,25)$  R1 $\\Rightarrow (80,35)$  R1 $\\Rightarrow (45,45)$  R1 $\\Rightarrow (0,55)$  R2 $\\Rightarrow (0,505)$  R2 $\\Rightarrow (0,5005)$  R2 $\\Rightarrow (0,50005)$  R2 $\\Rightarrow (0,500005)$\n",
    "\n",
    "\n",
    "\n"
   ]
  },
  {
   "cell_type": "code",
   "execution_count": 34,
   "metadata": {},
   "outputs": [],
   "source": [
    "# Function to calculate the square root of 2 to 100 decimal places\n",
    "# Adapted from ref [5] https://www.mathblog.dk/project-euler-80-digits-irrational-square-roots/\n",
    "def sqrt2():\n",
    "    limit = 10 ** 102 # sets the decimal precision limit\n",
    "    n = 2 # variable n , the number of which we will find the square root\n",
    "    a = 5 * n # variable a, the starting point of the algorithm\n",
    "    b = 5 # variable b, the starting point of the algorithm\n",
    "    while (b < limit):  #loop until b is equal to limit\n",
    "        if (a >= b):   # if a is greater than or equal to b\n",
    "            a -= b     # a is assigned a - b\n",
    "            b +=10     #b is assigned b + 10\n",
    "            #print('a is ' + str(a)) # used for debugging\n",
    "            #print('b is ' + str(b)) # used for debugging\n",
    "\n",
    "        else:    # else if a is not greater than or equal to b\n",
    "            a*= 100               # a is assigned a*100\n",
    "            b = 10 * b - 45       # b is assigned 10*b - 45. This is the equivalent of putting a zero before the final digit of b\n",
    "            #print('a is ' + str(a)) # used for debugging\n",
    "            #print('b is ' + str(b)) # used for debugging\n",
    "    x = str(b)    # turn b into a string\n",
    "    result = x[:1] + '.' + x[1:-2] # slice the string and concatanate the decimal point. Also remove the 05 on the end, added by the algorithm\n",
    "    #print(len(result)) #Check if have right accuracy, 100 decimal places \n",
    "    print(result)  # print square root of 2"
   ]
  },
  {
   "cell_type": "code",
   "execution_count": 35,
   "metadata": {},
   "outputs": [
    {
     "name": "stdout",
     "output_type": "stream",
     "text": [
      "1.4142135623730950488016887242096980785696718753769480731766797379907324784621070388503875343276415727\n"
     ]
    }
   ],
   "source": [
    "sqrt2()"
   ]
  },
  {
   "cell_type": "markdown",
   "metadata": {},
   "source": [
    "## Task 2 - Chi-squared ($\\chi^2$) test for independence\n",
    "\n",
    "The following contingency table represents samples from 4 neighbourhoods (A,B,C and D).A random sample of 650 residents of the city is taken and their occupation is recorded as \"white collar\", \"blue collar\", or \"no collar\" [9].\n",
    "\n",
    "\n",
    "|              | A   | B   | C   | D   | Total | \n",
    "|--------------|-----|-----|-----|-----|-------| \n",
    "| White Collar | 90  | 60  | 104 | 95  | 349   | \n",
    "| Blue Collar  | 30  | 50  | 51  | 20  | 151   | \n",
    "| No Collar    | 30  | 40  | 45  | 35  | 150   | \n",
    "| Total        | 150 | 150 | 200 | 150 | 650   | \n",
    "\n",
    "The null hypothesis is that each person's neighborhood of residence is independent of the person's occupational classification.\n",
    "\n",
    "To calculate the $\\chi^2$ test statistic, I will use the scipy.stats.chi2_contingency function. This function returns the $\\chi^2$ test statistic, the $p$ value, the degrees of freedom and the expected frequencies of the table [[8]](#References) ."
   ]
  },
  {
   "cell_type": "code",
   "execution_count": 4,
   "metadata": {},
   "outputs": [
    {
     "name": "stdout",
     "output_type": "stream",
     "text": [
      "The chi-squared value for the contingency table above with 6 degrees of freedom, is 24.5712028585826 with a p value of 0.0004098425861096696.\n"
     ]
    }
   ],
   "source": [
    "import scipy.stats as ss\n",
    "import numpy as np\n",
    "\n",
    "white = [90,60,104,95]\n",
    "blue = [30,50,51,20]\n",
    "no_collar = [30,40,45,35]\n",
    "\n",
    "collars = np.array([white, blue, no_collar])\n",
    "\n",
    "result = ss.chi2_contingency(collars)\n",
    "chi_squared_value, p, dof = result[0], result[1], result[2]\n",
    "#p = result[1]\n",
    "#dof = result\n",
    "\n",
    "print(f\"The chi-squared value for the contingency table above with {dof} degrees of freedom, is {chi_squared_value} with a p value of {p}.\")\n"
   ]
  },
  {
   "cell_type": "markdown",
   "metadata": {},
   "source": [
    "The p-value is what we use to determine significance (or independence in this case). In general, we are looking for a threshold at either 0.05 or 0.01. In this instance we can reject the null hypothesis, if we get a p-value below the chosen threshold [[7]](#Refernces). In this test, we get a $p$ value of 0.0004 which is below both thresholds stated earlier. With this information, we can reject teh hypothesis that each person's neighborhood of residence is independent of the person's occupational classification."
   ]
  },
  {
   "cell_type": "markdown",
   "metadata": {},
   "source": [
    "## References\n",
    "\n",
    "[1] https://stackoverflow.com/questions/4733173/how-can-i-show-an-irrational-number-to-100-decimal-places-in-python\n",
    "\n",
    "[2] https://en.wikipedia.org/wiki/Methods_of_computing_square_roots\n",
    "\n",
    "[3] https://medium.com/@surajregmi/how-to-calculate-the-square-root-of-a-number-newton-raphson-method-f8007714f64\n",
    "\n",
    "[4] http://www.afjarvis.staff.shef.ac.uk/maths/jarvisspec02.pdf\n",
    "\n",
    "[5] https://www.mathblog.dk/project-euler-80-digits-irrational-square-roots/\n",
    "\n",
    "https://www.overleaf.com/learn/latex\n",
    "\n",
    "[6] https://www.socscistatistics.com/tests/chisquare2/default2.aspx\n",
    "\n",
    "[7] https://towardsdatascience.com/running-chi-square-tests-in-python-with-die-roll-data-b9903817c51b\n",
    "\n",
    "[8] https://docs.scipy.org/doc/scipy/reference/generated/scipy.stats.chi2_contingency.html#scipy.stats.chi2_contingency\n",
    "\n",
    "[9] https://en.wikipedia.org/w/index.php?title=Chi-squared_test&oldid=983024096#Example_chi-squared_test_for_categorical_data"
   ]
  },
  {
   "cell_type": "code",
   "execution_count": null,
   "metadata": {},
   "outputs": [],
   "source": []
  }
 ],
 "metadata": {
  "kernelspec": {
   "display_name": "Python 3",
   "language": "python",
   "name": "python3"
  },
  "language_info": {
   "codemirror_mode": {
    "name": "ipython",
    "version": 3
   },
   "file_extension": ".py",
   "mimetype": "text/x-python",
   "name": "python",
   "nbconvert_exporter": "python",
   "pygments_lexer": "ipython3",
   "version": "3.7.9"
  }
 },
 "nbformat": 4,
 "nbformat_minor": 4
}
