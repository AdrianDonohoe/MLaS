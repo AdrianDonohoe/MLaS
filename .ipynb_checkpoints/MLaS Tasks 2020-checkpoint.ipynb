{
 "cells": [
  {
   "cell_type": "markdown",
   "metadata": {},
   "source": [
    "# Tasks 2020\n",
    "***"
   ]
  },
  {
   "cell_type": "markdown",
   "metadata": {},
   "source": [
    "## Computing Square Roots with Newton's Method"
   ]
  },
  {
   "cell_type": "markdown",
   "metadata": {},
   "source": [
    "$ x_{n+1} = \\frac{x_n + \\frac{a}{x_n}}{2} \\ $"
   ]
  },
  {
   "cell_type": "code",
   "execution_count": 34,
   "metadata": {},
   "outputs": [],
   "source": [
    "from decimal import *\n",
    "getcontext().prec = 100\n",
    "\n",
    "def mySqrt(x):\n",
    "\n",
    "    r = x\n",
    "    precision = 10 ** (-20)\n",
    "    \n",
    "    while abs(x - r * r) > precision:\n",
    "        r = (r + x / r) / 2\n",
    "        \n",
    "    return r"
   ]
  },
  {
   "cell_type": "code",
   "execution_count": 35,
   "metadata": {},
   "outputs": [
    {
     "data": {
      "text/plain": [
       "Decimal('1.414213562373095048801689624')"
      ]
     },
     "execution_count": 35,
     "metadata": {},
     "output_type": "execute_result"
    }
   ],
   "source": [
    "mySqrt(Decimal(2))"
   ]
  },
  {
   "cell_type": "code",
   "execution_count": 38,
   "metadata": {},
   "outputs": [
    {
     "name": "stdout",
     "output_type": "stream",
     "text": [
      "1.414213562373095048801688724209698078569671875376948073176679737990732478462107038850387534327641573\n"
     ]
    }
   ],
   "source": [
    "from decimal import Decimal, localcontext\n",
    "with localcontext() as ctx:\n",
    "    ctx.prec = 100\n",
    "    print(Decimal(2).sqrt())"
   ]
  },
  {
   "cell_type": "code",
   "execution_count": 65,
   "metadata": {},
   "outputs": [],
   "source": [
    "def sqrt2():\n",
    "    limit = 10 ** 100\n",
    "    n = 2\n",
    "    a = 5 * n\n",
    "    b = 5\n",
    "    while (b < limit):\n",
    "        if (a >= b):\n",
    "            a -= b\n",
    "            b +=10\n",
    "            #print('a is ' + str(a))\n",
    "            #print('b is ' + str(b))\n",
    "\n",
    "        else:\n",
    "            a*= 100\n",
    "            b = 10 * b - 45\n",
    "            #print('a is ' + str(a))\n",
    "            #print('b is ' + str(b))\n",
    "    x = str(b)    \n",
    "    result = x[:1] + '.' + x[1:]\n",
    "    #print(len(result)) #Check if have right accuracy, 100 decimal places \n",
    "    print(result)"
   ]
  },
  {
   "cell_type": "code",
   "execution_count": 66,
   "metadata": {},
   "outputs": [
    {
     "name": "stdout",
     "output_type": "stream",
     "text": [
      "1.4142135623730950488016887242096980785696718753769480731766797379907324784621070388503875343276415705\n"
     ]
    }
   ],
   "source": [
    "sqrt2()"
   ]
  },
  {
   "cell_type": "markdown",
   "metadata": {},
   "source": [
    "## References\n",
    "\n",
    "https://medium.com/@surajregmi/how-to-calculate-the-square-root-of-a-number-newton-raphson-method-f8007714f64\n",
    "\n",
    "https://www.overleaf.com/learn/latex/subscripts_and_superscripts\n",
    "\n",
    "https://www.mathblog.dk/project-euler-80-digits-irrational-square-roots/\n",
    "\n",
    "http://www.afjarvis.staff.shef.ac.uk/maths/jarvisspec02.pdf"
   ]
  },
  {
   "cell_type": "code",
   "execution_count": null,
   "metadata": {},
   "outputs": [],
   "source": []
  }
 ],
 "metadata": {
  "kernelspec": {
   "display_name": "Python 3",
   "language": "python",
   "name": "python3"
  },
  "language_info": {
   "codemirror_mode": {
    "name": "ipython",
    "version": 3
   },
   "file_extension": ".py",
   "mimetype": "text/x-python",
   "name": "python",
   "nbconvert_exporter": "python",
   "pygments_lexer": "ipython3",
   "version": "3.7.9"
  }
 },
 "nbformat": 4,
 "nbformat_minor": 4
}
